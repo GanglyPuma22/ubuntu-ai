{
 "cells": [
  {
   "cell_type": "markdown",
   "id": "cc400331",
   "metadata": {},
   "source": [
    "# 🤖 AI Model Demos\n",
    "This notebook demonstrates how to use NLP, LLM, Vision, and Embedding models after installation."
   ]
  },
  {
   "cell_type": "markdown",
   "id": "aded5519",
   "metadata": {},
   "source": [
    "## 🧠 1. Sentence Classification (DistilBERT)"
   ]
  },
  {
   "cell_type": "code",
   "execution_count": 7,
   "id": "3b528d2c",
   "metadata": {},
   "outputs": [
    {
     "name": "stderr",
     "output_type": "stream",
     "text": [
      "Some weights of DistilBertForSequenceClassification were not initialized from the model checkpoint at distilbert-base-uncased and are newly initialized: ['classifier.bias', 'classifier.weight', 'pre_classifier.bias', 'pre_classifier.weight']\n",
      "You should probably TRAIN this model on a down-stream task to be able to use it for predictions and inference.\n"
     ]
    },
    {
     "name": "stdout",
     "output_type": "stream",
     "text": [
      "Logits: tensor([[-0.1454, -0.0637]], grad_fn=<AddmmBackward0>)\n"
     ]
    },
    {
     "ename": "NameError",
     "evalue": "name 'logits' is not defined",
     "output_type": "error",
     "traceback": [
      "\u001b[31m---------------------------------------------------------------------------\u001b[39m",
      "\u001b[31mNameError\u001b[39m                                 Traceback (most recent call last)",
      "\u001b[36mCell\u001b[39m\u001b[36m \u001b[39m\u001b[32mIn[7]\u001b[39m\u001b[32m, line 10\u001b[39m\n\u001b[32m      8\u001b[39m outputs = model(**inputs)\n\u001b[32m      9\u001b[39m \u001b[38;5;28mprint\u001b[39m(\u001b[33m\"\u001b[39m\u001b[33mLogits:\u001b[39m\u001b[33m\"\u001b[39m, outputs.logits)\n\u001b[32m---> \u001b[39m\u001b[32m10\u001b[39m predicted_class = \u001b[43mlogits\u001b[49m.argmax(dim=\u001b[32m1\u001b[39m)\n\u001b[32m     11\u001b[39m \u001b[38;5;28mprint\u001b[39m(predicted_class)\n",
      "\u001b[31mNameError\u001b[39m: name 'logits' is not defined"
     ]
    }
   ],
   "source": [
    "from transformers import AutoTokenizer, AutoModelForSequenceClassification\n",
    "import torch\n",
    "\n",
    "tokenizer = AutoTokenizer.from_pretrained(\"distilbert-base-uncased\")\n",
    "model = AutoModelForSequenceClassification.from_pretrained(\"distilbert-base-uncased\")\n",
    "\n",
    "inputs = tokenizer(\"This is an amazing AI setup!\", return_tensors=\"pt\")\n",
    "outputs = model(**inputs)\n",
    "print(\"Logits:\", outputs.logits)\n",
    "predicted_class = outputs.logits.argmax(dim=1)\n",
    "print(predicted_class)"
   ]
  },
  {
   "cell_type": "markdown",
   "id": "7e96d83b",
   "metadata": {},
   "source": [
    "## 🤖 2. Chat with a Local LLM (Mistral 7B)"
   ]
  },
  {
   "cell_type": "code",
   "execution_count": null,
   "id": "085154ce",
   "metadata": {},
   "outputs": [],
   "source": [
    "from transformers import AutoTokenizer, AutoModelForCausalLM\n",
    "\n",
    "model_name = \"mistralai/Mistral-7B-Instruct-v0.1\"\n",
    "tokenizer = AutoTokenizer.from_pretrained(model_name)\n",
    "model = AutoModelForCausalLM.from_pretrained(model_name, device_map=\"auto\")\n",
    "\n",
    "prompt = \"Explain artificial intelligence like I'm 5:\"\n",
    "inputs = tokenizer(prompt, return_tensors=\"pt\").to(model.device)\n",
    "outputs = model.generate(**inputs, max_new_tokens=50)\n",
    "print(tokenizer.decode(outputs[0], skip_special_tokens=True))\n"
   ]
  },
  {
   "cell_type": "markdown",
   "id": "234de672",
   "metadata": {},
   "source": [
    "## 🖼️ 3. Image Classification (ResNet18)"
   ]
  },
  {
   "cell_type": "code",
   "execution_count": 6,
   "id": "69c25528",
   "metadata": {},
   "outputs": [
    {
     "name": "stdout",
     "output_type": "stream",
     "text": [
      "Predicted class index: 286\n"
     ]
    }
   ],
   "source": [
    "from torchvision.models import resnet18\n",
    "from torchvision import transforms\n",
    "from PIL import Image\n",
    "import torch\n",
    "\n",
    "model = resnet18(pretrained=True)\n",
    "model.eval()\n",
    "\n",
    "image = Image.open(\"./cat.jpg\")  # Provide your own image\n",
    "preprocess = transforms.Compose([\n",
    "    transforms.Resize(256),\n",
    "    transforms.CenterCrop(224),\n",
    "    transforms.ToTensor(),\n",
    "])\n",
    "\n",
    "input_tensor = preprocess(image).unsqueeze(0)  # Add batch dimension\n",
    "with torch.no_grad():\n",
    "    output = model(input_tensor)\n",
    "print(\"Predicted class index:\", output.argmax().item())"
   ]
  },
  {
   "cell_type": "markdown",
   "id": "c1e29897",
   "metadata": {},
   "source": [
    "## 📏 4. Sentence Embeddings (MiniLM)"
   ]
  },
  {
   "cell_type": "code",
   "execution_count": null,
   "id": "9b248bfd",
   "metadata": {},
   "outputs": [],
   "source": [
    "from sentence_transformers import SentenceTransformer\n",
    "\n",
    "model = SentenceTransformer(\"all-MiniLM-L6-v2\")\n",
    "embedding = model.encode(\"AI is changing the world.\")\n",
    "print(\"Embedding shape:\", embedding.shape)\n"
   ]
  }
 ],
 "metadata": {
  "kernelspec": {
   "display_name": "Python 3 (ipykernel)",
   "language": "python",
   "name": "python3"
  },
  "language_info": {
   "codemirror_mode": {
    "name": "ipython",
    "version": 3
   },
   "file_extension": ".py",
   "mimetype": "text/x-python",
   "name": "python",
   "nbconvert_exporter": "python",
   "pygments_lexer": "ipython3",
   "version": "3.11.13"
  }
 },
 "nbformat": 4,
 "nbformat_minor": 5
}
